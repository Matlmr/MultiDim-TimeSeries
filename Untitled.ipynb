{
 "cells": [
  {
   "cell_type": "code",
   "execution_count": null,
   "metadata": {},
   "outputs": [
    {
     "name": "stdout",
     "output_type": "stream",
     "text": [
      "Reading shape file...\n",
      "Reading raster file...\n",
      "Original coordinates: (13.1393463481953, 46.7505587895063, 16.9600609146124, 48.7670969392978)\n",
      "Transformed coordinates: (385293.55148270004, 318718.5853024692, 667999.481378834, 540943.1202845809)\n",
      "Scanned 272500 out of 2522622 fields. (10.802252576882307%)\r"
     ]
    }
   ],
   "source": [
    "from serialTimer import SerialTimer\n",
    "\n",
    "st = SerialTimer(aoi_file='/home/mlamarre/Documents/FieldTimeSeries/outline.csv',\n",
    "                 out_file='/home/mlamarre/Documents/FieldTimeSeries/dataframes/austria_quick.csv',\n",
    "                 dimensions=['BS.VH','BS.VV','coh.VH','coh.VV','ha_alpha.Alpha','ha_alpha.Anisotropy','ha_alpha.Entropy'],\n",
    "                 quick_check=True)\n",
    "\n",
    "st.routine()"
   ]
  },
  {
   "cell_type": "code",
   "execution_count": null,
   "metadata": {},
   "outputs": [],
   "source": []
  }
 ],
 "metadata": {
  "kernelspec": {
   "display_name": "Python 3",
   "language": "python",
   "name": "python3"
  },
  "language_info": {
   "codemirror_mode": {
    "name": "ipython",
    "version": 3
   },
   "file_extension": ".py",
   "mimetype": "text/x-python",
   "name": "python",
   "nbconvert_exporter": "python",
   "pygments_lexer": "ipython3",
   "version": "3.7.3"
  }
 },
 "nbformat": 4,
 "nbformat_minor": 4
}
