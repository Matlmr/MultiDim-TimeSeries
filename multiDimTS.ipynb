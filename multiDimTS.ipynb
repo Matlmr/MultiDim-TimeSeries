{
 "cells": [
  {
   "cell_type": "code",
   "execution_count": 32,
   "metadata": {},
   "outputs": [],
   "source": [
    "import os\n",
    "import rasterio\n",
    "import numpy as np\n",
    "import geopandas as gpd\n",
    "\n",
    "from rasterstats import zonal_stats\n",
    "from shapely.geometry import Point, Polygon, box\n",
    "\n",
    "\n",
    "class SerialTimer():\n",
    "    \n",
    "    def __init__(self,\n",
    "                 aoi,\n",
    "                 raster_dir='/home/volume2/Austria/Timeseries/',\n",
    "                 polygon_file='/home/volume2/Austria/GroundTruth/invekos_schlaege_polygon.shp',\n",
    "                 out_dir='/home/mlamarre/Documents/FieldTimeSeries',\n",
    "                 time_stamps=np.arange(1,61),\n",
    "                 dimensions=['BS.VH', 'BS.VV']):\n",
    "        \n",
    "        self.raster_dir = raster_dir\n",
    "        self.polygon_file = polygon_file\n",
    "        self.out_dir = out_dir\n",
    "        self.aoi = aoi\n",
    "        self.time_stamps = time_stamps\n",
    "        self.dimensions = dimensions\n",
    "        \n",
    "    def readPolygons(self):\n",
    "        if os.path.isfile(self.polygon_file):\n",
    "            self.polygons = gpd.read_file(self.polygon_file)\n",
    "        else:\n",
    "            print('ERROR: wrong shape file')\n",
    "            \n",
    "    def readRaster(self, time_stamps, dimension):\n",
    "        filename = self.raster_dir"
   ]
  },
  {
   "cell_type": "code",
   "execution_count": 33,
   "metadata": {},
   "outputs": [],
   "source": [
    "s = SerialTimer(2)"
   ]
  },
  {
   "cell_type": "code",
   "execution_count": 34,
   "metadata": {},
   "outputs": [
    {
     "name": "stdout",
     "output_type": "stream",
     "text": [
      "ERROR: wrong shape file\n"
     ]
    }
   ],
   "source": [
    "s.readPolygons()"
   ]
  },
  {
   "cell_type": "code",
   "execution_count": null,
   "metadata": {},
   "outputs": [],
   "source": []
  }
 ],
 "metadata": {
  "kernelspec": {
   "display_name": "Python 3",
   "language": "python",
   "name": "python3"
  },
  "language_info": {
   "codemirror_mode": {
    "name": "ipython",
    "version": 3
   },
   "file_extension": ".py",
   "mimetype": "text/x-python",
   "name": "python",
   "nbconvert_exporter": "python",
   "pygments_lexer": "ipython3",
   "version": "3.7.3"
  }
 },
 "nbformat": 4,
 "nbformat_minor": 4
}
