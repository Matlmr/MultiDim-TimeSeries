{
 "cells": [
  {
   "cell_type": "code",
   "execution_count": null,
   "metadata": {},
   "outputs": [],
   "source": [
    "import os\n",
    "import rasterio\n",
    "import numpy as np\n",
    "import geopandas as gpd\n",
    "\n",
    "from rasterstats import zonal_stats\n",
    "from shapely.geometry import Point, Polygon, box\n",
    "\n",
    "\n",
    "class SerialTimer():\n",
    "    \n",
    "    def __init__(self,\n",
    "                 aoi=[15.00, 48.00, 15.01, 48.01],\n",
    "                 raster_dir='/home/volume2/Austria/Timeseries/',\n",
    "                 polygon_file='/home/volume2/Austria/GroundTruth/invekos_schlaege_polygon.shp',\n",
    "                 out_dir='/home/mlamarre/Documents/FieldTimeSeries',\n",
    "                 time_stamps=np.arange(1,61),\n",
    "                 dimensions=['BS.VH', 'BS.VV']):\n",
    "        \n",
    "        self.raster_dir = raster_dir\n",
    "        self.polygon_file = polygon_file\n",
    "        self.out_dir = out_dir\n",
    "        self.aoi = box(minx=aoi[0],miny=aoi[1],maxx=aoi[2],maxy=aoi[3])\n",
    "        self.time_stamps = time_stamps\n",
    "        self.dimensions = dimensions\n",
    "        columns = ['PolyID', ]\n",
    "        \n",
    "    def readPolygons(self):\n",
    "        if os.path.isfile(self.polygon_file):\n",
    "            print('Reading shape file...')\n",
    "            self.polygons = gpd.read_file(self.polygon_file)\n",
    "            self.poly_crs = self.polygons.crs\n",
    "        else:\n",
    "            print('ERROR: wrong shape file')\n",
    "            \n",
    "    def readRaster(self, time_stamp, dimension):\n",
    "        filename = '.'.join([self.raster_dir+str(time_stamp),dimension,'tif'])\n",
    "        if os.path.isfile(filename):\n",
    "            print('Reading raster file...')\n",
    "            self.raster = rasterio.open(filename)\n",
    "            self.rast_crs = self.raster.crs\n",
    "        else:\n",
    "            print('ERROR: wrong raster file')\n",
    "            \n",
    "    def selectPolygons(self):\n",
    "        # Transforms AoI to GeoDataFrame to change CRS and then back to Polygon to use within function\n",
    "        print('Original coordinates: {}'.format(self.aoi.bounds))\n",
    "        AOI = gpd.GeoDataFrame({'geometry':self.aoi}, index=[0], crs=self.rast_crs)\n",
    "        AOI = AOI.to_crs(self.poly_crs)\n",
    "        AOI = box(minx=AOI.bounds.loc[0]['minx'],\n",
    "                  miny=AOI.bounds.loc[0]['miny'],\n",
    "                  maxx=AOI.bounds.loc[0]['maxx'],\n",
    "                  maxy=AOI.bounds.loc[0]['maxy'])\n",
    "        print('Transformed coordinates: {}'.format(AOI.bounds))\n",
    "        \n",
    "        # Iterate over all the polygons and check if the 1st point is within AOI \n",
    "        idxs = []\n",
    "        for index, row in self.polygons.iterrows():\n",
    "            if index % 2500 == 0:\n",
    "                print('Scanned {} out of {} fields. ({}%)'.format(index,self.polygons.shape[0],index/self.polygons.shape[0]*100),end='\\r')\n",
    "            if(Point(row.geometry.exterior.coords[0]).within(AOI)):\n",
    "                idxs.append(index)        \n",
    "        print('{} fields were selected'.format(len(idxs)))\n",
    "        \n",
    "        # Keep the polygons of interest and change their CRS\n",
    "        self.polys_OI = self.polygons.iloc[idxs]\n",
    "        self.polys_OI = self.polys_OI.to_crs(self.rast_crs)\n",
    "        "
   ]
  },
  {
   "cell_type": "code",
   "execution_count": null,
   "metadata": {},
   "outputs": [],
   "source": [
    "s = SerialTimer()"
   ]
  },
  {
   "cell_type": "code",
   "execution_count": null,
   "metadata": {},
   "outputs": [],
   "source": [
    "s.readPolygons()"
   ]
  },
  {
   "cell_type": "code",
   "execution_count": null,
   "metadata": {},
   "outputs": [],
   "source": [
    "s.readRaster(1,'BS.VV')"
   ]
  },
  {
   "cell_type": "code",
   "execution_count": null,
   "metadata": {},
   "outputs": [],
   "source": [
    "s.selectPolygons()"
   ]
  },
  {
   "cell_type": "code",
   "execution_count": null,
   "metadata": {},
   "outputs": [],
   "source": []
  },
  {
   "cell_type": "code",
   "execution_count": 11,
   "metadata": {},
   "outputs": [],
   "source": [
    "bigby = gpd.GeoDataFrame(columns = s.dimensions)"
   ]
  },
  {
   "cell_type": "code",
   "execution_count": 12,
   "metadata": {},
   "outputs": [
    {
     "data": {
      "text/html": [
       "<div>\n",
       "<style scoped>\n",
       "    .dataframe tbody tr th:only-of-type {\n",
       "        vertical-align: middle;\n",
       "    }\n",
       "\n",
       "    .dataframe tbody tr th {\n",
       "        vertical-align: top;\n",
       "    }\n",
       "\n",
       "    .dataframe thead th {\n",
       "        text-align: right;\n",
       "    }\n",
       "</style>\n",
       "<table border=\"1\" class=\"dataframe\">\n",
       "  <thead>\n",
       "    <tr style=\"text-align: right;\">\n",
       "      <th></th>\n",
       "      <th>BS.VH</th>\n",
       "      <th>BS.VV</th>\n",
       "    </tr>\n",
       "  </thead>\n",
       "  <tbody>\n",
       "  </tbody>\n",
       "</table>\n",
       "</div>"
      ],
      "text/plain": [
       "Empty GeoDataFrame\n",
       "Columns: [BS.VH, BS.VV]\n",
       "Index: []"
      ]
     },
     "execution_count": 12,
     "metadata": {},
     "output_type": "execute_result"
    }
   ],
   "source": [
    "bigby\n"
   ]
  },
  {
   "cell_type": "code",
   "execution_count": null,
   "metadata": {},
   "outputs": [],
   "source": [
    "bib"
   ]
  }
 ],
 "metadata": {
  "kernelspec": {
   "display_name": "Python 3",
   "language": "python",
   "name": "python3"
  },
  "language_info": {
   "codemirror_mode": {
    "name": "ipython",
    "version": 3
   },
   "file_extension": ".py",
   "mimetype": "text/x-python",
   "name": "python",
   "nbconvert_exporter": "python",
   "pygments_lexer": "ipython3",
   "version": "3.7.3"
  }
 },
 "nbformat": 4,
 "nbformat_minor": 4
}
